{
 "cells": [
  {
   "cell_type": "code",
   "execution_count": 1,
   "metadata": {},
   "outputs": [
    {
     "data": {
      "application/javascript": [
       "IPython.notebook.clear_all_output();\n"
      ],
      "text/plain": [
       "<IPython.core.display.Javascript object>"
      ]
     },
     "metadata": {},
     "output_type": "display_data"
    }
   ],
   "source": [
    "%%javascript\n",
    "IPython.notebook.clear_all_output();"
   ]
  },
  {
   "cell_type": "code",
   "execution_count": 2,
   "metadata": {},
   "outputs": [],
   "source": [
    "import tweepy\n",
    "from tweepy import OAuthHandler\n",
    " \n",
    "consumer_key = 'pk07DZSWpJPYF8Py6J8YHCtlr'\n",
    "consumer_secret = 'Sju0guADPzpVcVMT0YzGHAPNAACKgTCNFWNlevwz1EjkqVxqUO'\n",
    "access_token = '1234980489561354243-s0PWPFVdeWK0orTf2GSeVlpArKQzuV'\n",
    "access_secret = 'cyuXC8Ybp3cKK6CntWsaArRaqYcwMxeCTw7P6eLY5ZRuT'\n",
    " \n",
    "auth = OAuthHandler(consumer_key, consumer_secret)\n",
    "auth.set_access_token(access_token, access_secret)\n",
    " \n",
    "api = tweepy.API(auth)"
   ]
  },
  {
   "cell_type": "code",
   "execution_count": 3,
   "metadata": {},
   "outputs": [
    {
     "name": "stdout",
     "output_type": "stream",
     "text": [
      "SAfridiOfficial\n"
     ]
    }
   ],
   "source": [
    "# Get the User object\n",
    "user = api.get_user('SAfridiOfficial')\n",
    "print(user.screen_name)"
   ]
  },
  {
   "cell_type": "code",
   "execution_count": 4,
   "metadata": {},
   "outputs": [
    {
     "name": "stdout",
     "output_type": "stream",
     "text": [
      "1327038\n"
     ]
    }
   ],
   "source": [
    "print(user.followers_count)"
   ]
  },
  {
   "cell_type": "code",
   "execution_count": 5,
   "metadata": {},
   "outputs": [
    {
     "name": "stdout",
     "output_type": "stream",
     "text": [
      "51\n"
     ]
    }
   ],
   "source": [
    "print(user.friends_count)"
   ]
  },
  {
   "cell_type": "code",
   "execution_count": 6,
   "metadata": {},
   "outputs": [
    {
     "name": "stdout",
     "output_type": "stream",
     "text": [
      "AsimSBajwa\n",
      "YUVSTRONG12\n",
      "RealTeamAfridi\n",
      "LalaNation10\n",
      "SAFoundationUK\n",
      "WahabViki\n",
      "hopecare10\n",
      "MaryamNSharif\n",
      "BrettLee_58\n",
      "JK555squash\n",
      "TheCurrentPK\n",
      "ReemaKhanOff\n",
      "WajSKhan\n",
      "Mahmoodkq\n",
      "MultanSultans\n",
      "halffullstudio\n",
      "peaceforchange\n",
      "AmeemHaq\n",
      "Salman_ARY\n",
      "HNOofficial\n"
     ]
    }
   ],
   "source": [
    "# you can only see 20, need more pages...\n",
    "for friend in user.friends():\n",
    "   print(friend.screen_name)"
   ]
  },
  {
   "cell_type": "code",
   "execution_count": 7,
   "metadata": {},
   "outputs": [
    {
     "name": "stdout",
     "output_type": "stream",
     "text": [
      "51 friends fetched\n"
     ]
    },
    {
     "data": {
      "text/plain": [
       "51"
      ]
     },
     "execution_count": 7,
     "metadata": {},
     "output_type": "execute_result"
    }
   ],
   "source": [
    "import time\n",
    "\n",
    "ids = []\n",
    "\n",
    "for page in tweepy.Cursor(api.friends_ids, screen_name=\"SAfridiOfficial\").pages():\n",
    "    print(len(page), 'friends fetched')\n",
    "    ids.extend(page)\n",
    "    time.sleep(1) #RateLimitError: [{'message': 'Rate limit exceeded', 'code': 88}]\n",
    "\n",
    "len(ids)"
   ]
  },
  {
   "cell_type": "code",
   "execution_count": 8,
   "metadata": {},
   "outputs": [
    {
     "data": {
      "text/plain": [
       "[1217414278984224768,\n",
       " 59808841,\n",
       " 1171392712777654273,\n",
       " 1185166594835734528,\n",
       " 1160958164659068930,\n",
       " 275564493,\n",
       " 1118147158040092672,\n",
       " 453507741,\n",
       " 409089061,\n",
       " 2260037635,\n",
       " 1071379365701799936,\n",
       " 986940317906685953,\n",
       " 74964902,\n",
       " 3274938072,\n",
       " 870440977579646976,\n",
       " 988341379012100096,\n",
       " 60489018,\n",
       " 397490816,\n",
       " 456640876,\n",
       " 952481643532619777,\n",
       " 4459089568,\n",
       " 136636881,\n",
       " 332245337,\n",
       " 811505937911517184,\n",
       " 223080656,\n",
       " 139118162,\n",
       " 53783099,\n",
       " 71201743,\n",
       " 50386039,\n",
       " 869268445,\n",
       " 93073127,\n",
       " 149733596,\n",
       " 2420020489,\n",
       " 119531653,\n",
       " 1417829894,\n",
       " 210792232,\n",
       " 2930409877,\n",
       " 224958320,\n",
       " 2406545480,\n",
       " 2961880449,\n",
       " 267137977,\n",
       " 2863865170,\n",
       " 71295758,\n",
       " 1041453240,\n",
       " 578215060,\n",
       " 177547780,\n",
       " 1593958021,\n",
       " 122453931,\n",
       " 45452226,\n",
       " 327489565,\n",
       " 87162115]"
      ]
     },
     "execution_count": 8,
     "metadata": {},
     "output_type": "execute_result"
    }
   ],
   "source": [
    "ids"
   ]
  },
  {
   "cell_type": "markdown",
   "metadata": {},
   "source": [
    "Note: use this link to visit a user: https://twitter.com/intent/user?user_id={id}"
   ]
  },
  {
   "cell_type": "code",
   "execution_count": null,
   "metadata": {},
   "outputs": [],
   "source": [
    "# The End"
   ]
  }
 ],
 "metadata": {
  "kernelspec": {
   "display_name": "Python 3",
   "language": "python",
   "name": "python3"
  },
  "language_info": {
   "codemirror_mode": {
    "name": "ipython",
    "version": 3
   },
   "file_extension": ".py",
   "mimetype": "text/x-python",
   "name": "python",
   "nbconvert_exporter": "python",
   "pygments_lexer": "ipython3",
   "version": "3.7.4"
  }
 },
 "nbformat": 4,
 "nbformat_minor": 2
}
